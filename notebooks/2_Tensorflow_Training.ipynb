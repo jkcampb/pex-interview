{
 "cells": [
  {
   "cell_type": "markdown",
   "metadata": {},
   "source": [
    "### Running this on GCE\n",
    "Lets make sure it is picking up the GPU"
   ]
  },
  {
   "cell_type": "code",
   "execution_count": 1,
   "metadata": {
    "scrolled": true
   },
   "outputs": [
    {
     "name": "stdout",
     "output_type": "stream",
     "text": [
      "[name: \"/device:CPU:0\"\n",
      "device_type: \"CPU\"\n",
      "memory_limit: 268435456\n",
      "locality {\n",
      "}\n",
      "incarnation: 3024345277074842187\n",
      ", name: \"/device:XLA_CPU:0\"\n",
      "device_type: \"XLA_CPU\"\n",
      "memory_limit: 17179869184\n",
      "locality {\n",
      "}\n",
      "incarnation: 4932634607361116832\n",
      "physical_device_desc: \"device: XLA_CPU device\"\n",
      ", name: \"/device:XLA_GPU:0\"\n",
      "device_type: \"XLA_GPU\"\n",
      "memory_limit: 17179869184\n",
      "locality {\n",
      "}\n",
      "incarnation: 5445872812009753776\n",
      "physical_device_desc: \"device: XLA_GPU device\"\n",
      ", name: \"/device:GPU:0\"\n",
      "device_type: \"GPU\"\n",
      "memory_limit: 7382384640\n",
      "locality {\n",
      "  bus_id: 1\n",
      "  links {\n",
      "  }\n",
      "}\n",
      "incarnation: 11240677277970821835\n",
      "physical_device_desc: \"device: 0, name: Tesla P4, pci bus id: 0000:00:04.0, compute capability: 6.1\"\n",
      "]\n"
     ]
    }
   ],
   "source": [
    "from tensorflow.python.client import device_lib\n",
    "print(device_lib.list_local_devices())"
   ]
  },
  {
   "cell_type": "code",
   "execution_count": 14,
   "metadata": {},
   "outputs": [],
   "source": [
    "import os\n",
    "\n",
    "from tensorflow.keras.preprocessing.image import ImageDataGenerator\n",
    "import tensorflow as tf\n",
    "from tensorflow.keras.optimizers import Adam, SGD, RMSprop\n",
    "from PIL import Image"
   ]
  },
  {
   "cell_type": "code",
   "execution_count": 3,
   "metadata": {},
   "outputs": [],
   "source": [
    "train_dir = '../data/frames/train/'\n",
    "test_dir = '../data/frames/test/'"
   ]
  },
  {
   "cell_type": "code",
   "execution_count": 4,
   "metadata": {},
   "outputs": [],
   "source": [
    "train_datagen = ImageDataGenerator(rescale=1./255)\n",
    "test_datagen = ImageDataGenerator(rescale=1./255)"
   ]
  },
  {
   "cell_type": "markdown",
   "metadata": {},
   "source": [
    "### Tensorflow Inputs\n",
    "You can create these generators by pointing TF to a directory and it will automatically intentify the targets (based on the sub-folder) and batch the images"
   ]
  },
  {
   "cell_type": "code",
   "execution_count": 5,
   "metadata": {},
   "outputs": [
    {
     "name": "stdout",
     "output_type": "stream",
     "text": [
      "Found 8726 images belonging to 2 classes.\n",
      "Found 2152 images belonging to 2 classes.\n"
     ]
    }
   ],
   "source": [
    "train_generator = train_datagen.flow_from_directory(train_dir,\n",
    "                                                   batch_size=32,\n",
    "                                                   class_mode='binary',\n",
    "                                                   target_size=(352,240))\n",
    "test_generator = test_datagen.flow_from_directory(test_dir,\n",
    "                                                   batch_size=32,\n",
    "                                                   class_mode='binary',\n",
    "                                                   target_size=(352,240))"
   ]
  },
  {
   "cell_type": "markdown",
   "metadata": {},
   "source": [
    "### CNN Layers\n",
    "Lets make an CNN with 3x convolutions followed by pooling before flattening to our output  \n",
    "Obviously, there is a lot we can manipulate and test within the NN architecture"
   ]
  },
  {
   "cell_type": "code",
   "execution_count": 6,
   "metadata": {},
   "outputs": [],
   "source": [
    "model = tf.keras.models.Sequential([\n",
    "    tf.keras.layers.Conv2D(16, (3,3), activation='relu', input_shape=(352,240, 3)),\n",
    "    tf.keras.layers.MaxPooling2D(2,2),\n",
    "    tf.keras.layers.Conv2D(32, (3,3), activation='relu'),\n",
    "    tf.keras.layers.MaxPooling2D(2,2),\n",
    "    tf.keras.layers.Conv2D(64, (3,3), activation='relu'),\n",
    "    tf.keras.layers.MaxPooling2D(2,2),\n",
    "    tf.keras.layers.Flatten(),\n",
    "    tf.keras.layers.Dense(1024, activation='relu'),\n",
    "    tf.keras.layers.Dense(1, activation='sigmoid')\n",
    "])"
   ]
  },
  {
   "cell_type": "markdown",
   "metadata": {},
   "source": [
    "#### Optimizers\n",
    "RMSProp(0.001) - used based off of example code, but accuracy never moved  \n",
    "Found https://medium.com/octavian-ai/which-optimizer-and-learning-rate-should-i-use-for-deep-learning-5acb418f9b2  \n",
    "Adam(0.001) - Also no movement in accuracy. validation accuracy never moved  \n",
    "Found https://stackoverflow.com/questions/37213388/keras-accuracy-does-not-change  \n",
    "SGD(0.001) - Movement! 0.71 acc after 20 epochs  \n",
    "SGD(0.01) - Lower LR = bigger leaps. 0.71 acc after 20 epochs lets call it there  \n",
    "\n",
    "Obviously, lots of places to optimize here. Use of some grid search and lots of GPU"
   ]
  },
  {
   "cell_type": "code",
   "execution_count": 7,
   "metadata": {},
   "outputs": [],
   "source": [
    "model.compile(optimizer=SGD(lr=0.01),\n",
    "             loss='binary_crossentropy',\n",
    "             metrics=['accuracy'])"
   ]
  },
  {
   "cell_type": "code",
   "execution_count": 8,
   "metadata": {},
   "outputs": [
    {
     "name": "stdout",
     "output_type": "stream",
     "text": [
      "Epoch 1/20\n",
      "100/100 [==============================] - 42s 416ms/step - loss: 0.6738 - accuracy: 0.5744 - val_loss: 0.6236 - val_accuracy: 0.6981\n",
      "Epoch 2/20\n",
      "100/100 [==============================] - 40s 400ms/step - loss: 0.6248 - accuracy: 0.6541 - val_loss: 0.6320 - val_accuracy: 0.6175\n",
      "Epoch 3/20\n",
      "100/100 [==============================] - 40s 402ms/step - loss: 0.6099 - accuracy: 0.6712 - val_loss: 0.5868 - val_accuracy: 0.7100\n",
      "Epoch 4/20\n",
      "100/100 [==============================] - 29s 291ms/step - loss: 0.5855 - accuracy: 0.6959 - val_loss: 0.5984 - val_accuracy: 0.6637\n",
      "Epoch 5/20\n",
      "100/100 [==============================] - 30s 295ms/step - loss: 0.5731 - accuracy: 0.7038 - val_loss: 0.5513 - val_accuracy: 0.7300\n",
      "Epoch 6/20\n",
      "100/100 [==============================] - 27s 268ms/step - loss: 0.5579 - accuracy: 0.7253 - val_loss: 0.5637 - val_accuracy: 0.6919\n",
      "Epoch 7/20\n",
      "100/100 [==============================] - 26s 262ms/step - loss: 0.5587 - accuracy: 0.7257 - val_loss: 0.5596 - val_accuracy: 0.6806\n",
      "Epoch 8/20\n",
      "100/100 [==============================] - 27s 267ms/step - loss: 0.5431 - accuracy: 0.7331 - val_loss: 0.5472 - val_accuracy: 0.7331\n",
      "Epoch 9/20\n",
      "100/100 [==============================] - 26s 263ms/step - loss: 0.5259 - accuracy: 0.7456 - val_loss: 0.5811 - val_accuracy: 0.7088\n",
      "Epoch 10/20\n",
      "100/100 [==============================] - 34s 345ms/step - loss: 0.5212 - accuracy: 0.7442 - val_loss: 0.5170 - val_accuracy: 0.7569\n",
      "Epoch 11/20\n",
      "100/100 [==============================] - 35s 354ms/step - loss: 0.5252 - accuracy: 0.7450 - val_loss: 0.5076 - val_accuracy: 0.7663\n",
      "Epoch 12/20\n",
      "100/100 [==============================] - 30s 295ms/step - loss: 0.5192 - accuracy: 0.7516 - val_loss: 0.5057 - val_accuracy: 0.7769\n",
      "Epoch 13/20\n",
      "100/100 [==============================] - 32s 323ms/step - loss: 0.5038 - accuracy: 0.7591 - val_loss: 0.5298 - val_accuracy: 0.7469\n",
      "Epoch 14/20\n",
      "100/100 [==============================] - 54s 541ms/step - loss: 0.4914 - accuracy: 0.7643 - val_loss: 0.6298 - val_accuracy: 0.6625\n",
      "Epoch 15/20\n",
      "100/100 [==============================] - 47s 469ms/step - loss: 0.4811 - accuracy: 0.7765 - val_loss: 0.4844 - val_accuracy: 0.7894\n",
      "Epoch 16/20\n",
      "100/100 [==============================] - 46s 457ms/step - loss: 0.4896 - accuracy: 0.7659 - val_loss: 0.5604 - val_accuracy: 0.7231\n",
      "Epoch 17/20\n",
      "100/100 [==============================] - 30s 305ms/step - loss: 0.4735 - accuracy: 0.7859 - val_loss: 0.4966 - val_accuracy: 0.7575\n",
      "Epoch 18/20\n",
      "100/100 [==============================] - 25s 251ms/step - loss: 0.4633 - accuracy: 0.7903 - val_loss: 0.5225 - val_accuracy: 0.7300\n",
      "Epoch 19/20\n",
      "100/100 [==============================] - 26s 257ms/step - loss: 0.4568 - accuracy: 0.7843 - val_loss: 0.4923 - val_accuracy: 0.7575\n",
      "Epoch 20/20\n",
      "100/100 [==============================] - 26s 259ms/step - loss: 0.4630 - accuracy: 0.7887 - val_loss: 0.4792 - val_accuracy: 0.7769\n"
     ]
    }
   ],
   "source": [
    "history = model.fit_generator(train_generator, \n",
    "                             validation_data=test_generator,\n",
    "                             steps_per_epoch=100,\n",
    "                             epochs=20,\n",
    "                             validation_steps=50,\n",
    "                             verbose=1)"
   ]
  },
  {
   "cell_type": "code",
   "execution_count": 29,
   "metadata": {},
   "outputs": [],
   "source": [
    "model.save('../models/indoor_outdoor_sgd_01.h5')"
   ]
  },
  {
   "cell_type": "code",
   "execution_count": null,
   "metadata": {},
   "outputs": [],
   "source": []
  }
 ],
 "metadata": {
  "kernelspec": {
   "display_name": "Python 3",
   "language": "python",
   "name": "python3"
  },
  "language_info": {
   "codemirror_mode": {
    "name": "ipython",
    "version": 3
   },
   "file_extension": ".py",
   "mimetype": "text/x-python",
   "name": "python",
   "nbconvert_exporter": "python",
   "pygments_lexer": "ipython3",
   "version": "3.5.3"
  }
 },
 "nbformat": 4,
 "nbformat_minor": 2
}
