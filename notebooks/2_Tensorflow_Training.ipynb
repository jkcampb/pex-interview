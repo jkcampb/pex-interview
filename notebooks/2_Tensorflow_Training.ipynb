{
 "cells": [
  {
   "cell_type": "markdown",
   "metadata": {},
   "source": [
    "### Running this on GCE\n",
    "Lets make sure it is picking up the GPU"
   ]
  },
  {
   "cell_type": "code",
   "execution_count": 1,
   "metadata": {
    "scrolled": true
   },
   "outputs": [
    {
     "name": "stdout",
     "output_type": "stream",
     "text": [
      "[name: \"/device:CPU:0\"\n",
      "device_type: \"CPU\"\n",
      "memory_limit: 268435456\n",
      "locality {\n",
      "}\n",
      "incarnation: 1257570253351131138\n",
      ", name: \"/device:XLA_CPU:0\"\n",
      "device_type: \"XLA_CPU\"\n",
      "memory_limit: 17179869184\n",
      "locality {\n",
      "}\n",
      "incarnation: 1353193102167593970\n",
      "physical_device_desc: \"device: XLA_CPU device\"\n",
      ", name: \"/device:XLA_GPU:0\"\n",
      "device_type: \"XLA_GPU\"\n",
      "memory_limit: 17179869184\n",
      "locality {\n",
      "}\n",
      "incarnation: 18223835837316806616\n",
      "physical_device_desc: \"device: XLA_GPU device\"\n",
      ", name: \"/device:GPU:0\"\n",
      "device_type: \"GPU\"\n",
      "memory_limit: 7382384640\n",
      "locality {\n",
      "  bus_id: 1\n",
      "  links {\n",
      "  }\n",
      "}\n",
      "incarnation: 4532264234901076545\n",
      "physical_device_desc: \"device: 0, name: Tesla P4, pci bus id: 0000:00:04.0, compute capability: 6.1\"\n",
      "]\n"
     ]
    }
   ],
   "source": [
    "from tensorflow.python.client import device_lib\n",
    "print(device_lib.list_local_devices())"
   ]
  },
  {
   "cell_type": "code",
   "execution_count": 2,
   "metadata": {},
   "outputs": [],
   "source": [
    "from tensorflow.keras.preprocessing.image import ImageDataGenerator\n",
    "import tensorflow as tf\n",
    "from PIL import Image\n",
    "from tensorflow.keras.optimizers import Adam, SGD, RMSprop"
   ]
  },
  {
   "cell_type": "code",
   "execution_count": 3,
   "metadata": {},
   "outputs": [],
   "source": [
    "train_dir = '../data/frames/train/'\n",
    "test_dir = '../data/frames/test/'"
   ]
  },
  {
   "cell_type": "code",
   "execution_count": 4,
   "metadata": {},
   "outputs": [],
   "source": [
    "train_datagen = ImageDataGenerator(rescale=1./255)\n",
    "test_datagen = ImageDataGenerator(rescale=1./255)"
   ]
  },
  {
   "cell_type": "markdown",
   "metadata": {},
   "source": [
    "### Tensorflow Inputs\n",
    "You can create these generators by pointing TF to a directory and it will automatically intentify the targets (based on the sub-folder) and batch the images"
   ]
  },
  {
   "cell_type": "code",
   "execution_count": 5,
   "metadata": {},
   "outputs": [
    {
     "name": "stdout",
     "output_type": "stream",
     "text": [
      "Found 8726 images belonging to 2 classes.\n",
      "Found 2152 images belonging to 2 classes.\n"
     ]
    }
   ],
   "source": [
    "train_generator = train_datagen.flow_from_directory(train_dir,\n",
    "                                                   batch_size=32,\n",
    "                                                   class_mode='binary',\n",
    "                                                   target_size=(352,240))\n",
    "test_generator = test_datagen.flow_from_directory(test_dir,\n",
    "                                                   batch_size=32,\n",
    "                                                   class_mode='binary',\n",
    "                                                   target_size=(352,240))"
   ]
  },
  {
   "cell_type": "markdown",
   "metadata": {},
   "source": [
    "### CNN Layers\n",
    "Lets make an CNN with 3x convolutions followed by pooling before flattening to our output  \n",
    "Obviously, there is a lot we can manipulate and test within the NN architecture"
   ]
  },
  {
   "cell_type": "code",
   "execution_count": 6,
   "metadata": {},
   "outputs": [],
   "source": [
    "model = tf.keras.models.Sequential([\n",
    "    tf.keras.layers.Conv2D(16, (3,3), activation='relu', input_shape=(352,240, 3)),\n",
    "    tf.keras.layers.MaxPooling2D(2,2),\n",
    "    tf.keras.layers.Conv2D(32, (3,3), activation='relu'),\n",
    "    tf.keras.layers.MaxPooling2D(2,2),\n",
    "    tf.keras.layers.Conv2D(64, (3,3), activation='relu'),\n",
    "    tf.keras.layers.MaxPooling2D(2,2),\n",
    "    tf.keras.layers.Flatten(),\n",
    "    tf.keras.layers.Dense(1024, activation='relu'),\n",
    "    tf.keras.layers.Dense(1, activation='sigmoid')\n",
    "])"
   ]
  },
  {
   "cell_type": "markdown",
   "metadata": {},
   "source": [
    "#### Optimizers\n",
    "RMSProp(0.001) - used based off of example code, but accuracy never moved  \n",
    "Found https://medium.com/octavian-ai/which-optimizer-and-learning-rate-should-i-use-for-deep-learning-5acb418f9b2  \n",
    "Adam(0.001) - Also no movement in accuracy. validation accuracy never moved  \n",
    "Found https://stackoverflow.com/questions/37213388/keras-accuracy-does-not-change  \n",
    "SGD(0.001) - Movement! 0.71 acc after 20 epochs  \n",
    "SGD(0.01) - Lower LR = bigger leaps. 0.71 acc after 20 epochs lets call it there  \n",
    "\n",
    "Obviously, lots of places to optimize here. Use of some grid search and lots of GPU"
   ]
  },
  {
   "cell_type": "code",
   "execution_count": 7,
   "metadata": {},
   "outputs": [],
   "source": [
    "model.compile(optimizer=SGD(lr=0.01),\n",
    "             loss='binary_crossentropy',\n",
    "             metrics=['accuracy'])"
   ]
  },
  {
   "cell_type": "code",
   "execution_count": 8,
   "metadata": {},
   "outputs": [
    {
     "name": "stdout",
     "output_type": "stream",
     "text": [
      "Epoch 1/20\n",
      "100/100 [==============================] - 62s 615ms/step - loss: 0.6604 - accuracy: 0.6131 - val_loss: 0.6288 - val_accuracy: 0.6275\n",
      "Epoch 2/20\n",
      "100/100 [==============================] - 52s 521ms/step - loss: 0.6269 - accuracy: 0.6511 - val_loss: 0.6484 - val_accuracy: 0.6125\n",
      "Epoch 3/20\n",
      "100/100 [==============================] - 43s 426ms/step - loss: 0.5984 - accuracy: 0.6716 - val_loss: 0.5893 - val_accuracy: 0.6544\n",
      "Epoch 4/20\n",
      "100/100 [==============================] - 30s 302ms/step - loss: 0.5828 - accuracy: 0.7025 - val_loss: 0.5542 - val_accuracy: 0.7337\n",
      "Epoch 5/20\n",
      "100/100 [==============================] - 30s 301ms/step - loss: 0.5668 - accuracy: 0.7038 - val_loss: 0.5470 - val_accuracy: 0.7450\n",
      "Epoch 6/20\n",
      "100/100 [==============================] - 27s 265ms/step - loss: 0.5665 - accuracy: 0.7116 - val_loss: 0.5682 - val_accuracy: 0.6744\n",
      "Epoch 7/20\n",
      "100/100 [==============================] - 26s 260ms/step - loss: 0.5393 - accuracy: 0.7301 - val_loss: 0.5354 - val_accuracy: 0.7300\n",
      "Epoch 8/20\n",
      "100/100 [==============================] - 26s 265ms/step - loss: 0.5492 - accuracy: 0.7222 - val_loss: 0.5645 - val_accuracy: 0.6812\n",
      "Epoch 9/20\n",
      "100/100 [==============================] - 26s 264ms/step - loss: 0.5328 - accuracy: 0.7359 - val_loss: 0.5232 - val_accuracy: 0.7619\n",
      "Epoch 10/20\n",
      "100/100 [==============================] - 26s 258ms/step - loss: 0.5258 - accuracy: 0.7500 - val_loss: 0.5268 - val_accuracy: 0.7475\n",
      "Epoch 11/20\n",
      "100/100 [==============================] - 26s 262ms/step - loss: 0.5117 - accuracy: 0.7542 - val_loss: 0.5956 - val_accuracy: 0.6744\n",
      "Epoch 12/20\n",
      "100/100 [==============================] - 26s 262ms/step - loss: 0.5046 - accuracy: 0.7627 - val_loss: 0.5293 - val_accuracy: 0.7456\n",
      "Epoch 13/20\n",
      "100/100 [==============================] - 26s 257ms/step - loss: 0.5098 - accuracy: 0.7566 - val_loss: 0.4856 - val_accuracy: 0.7763\n",
      "Epoch 14/20\n",
      "100/100 [==============================] - 26s 261ms/step - loss: 0.4771 - accuracy: 0.7756 - val_loss: 0.5047 - val_accuracy: 0.7606\n",
      "Epoch 15/20\n",
      "100/100 [==============================] - 26s 265ms/step - loss: 0.4939 - accuracy: 0.7675 - val_loss: 0.4773 - val_accuracy: 0.7800\n",
      "Epoch 16/20\n",
      "100/100 [==============================] - 26s 261ms/step - loss: 0.4750 - accuracy: 0.7791 - val_loss: 0.5186 - val_accuracy: 0.7437\n",
      "Epoch 17/20\n",
      "100/100 [==============================] - 26s 259ms/step - loss: 0.4559 - accuracy: 0.7984 - val_loss: 0.4900 - val_accuracy: 0.7613\n",
      "Epoch 18/20\n",
      "100/100 [==============================] - 26s 262ms/step - loss: 0.4634 - accuracy: 0.7853 - val_loss: 0.5739 - val_accuracy: 0.7181\n",
      "Epoch 19/20\n",
      "100/100 [==============================] - 26s 263ms/step - loss: 0.4641 - accuracy: 0.7825 - val_loss: 0.4724 - val_accuracy: 0.7881\n",
      "Epoch 20/20\n",
      "100/100 [==============================] - 26s 259ms/step - loss: 0.4371 - accuracy: 0.8003 - val_loss: 0.4695 - val_accuracy: 0.7944\n"
     ]
    }
   ],
   "source": [
    "history = model.fit_generator(train_generator, \n",
    "                             validation_data=test_generator,\n",
    "                             steps_per_epoch=100,\n",
    "                             epochs=20,\n",
    "                             validation_steps=50,\n",
    "                             verbose=1)"
   ]
  },
  {
   "cell_type": "code",
   "execution_count": 9,
   "metadata": {},
   "outputs": [],
   "source": [
    "model.save_weights('../models/indoor_outdoor_sgd_01.h5') "
   ]
  },
  {
   "cell_type": "code",
   "execution_count": null,
   "metadata": {},
   "outputs": [],
   "source": []
  }
 ],
 "metadata": {
  "kernelspec": {
   "display_name": "Python 3",
   "language": "python",
   "name": "python3"
  },
  "language_info": {
   "codemirror_mode": {
    "name": "ipython",
    "version": 3
   },
   "file_extension": ".py",
   "mimetype": "text/x-python",
   "name": "python",
   "nbconvert_exporter": "python",
   "pygments_lexer": "ipython3",
   "version": "3.5.3"
  }
 },
 "nbformat": 4,
 "nbformat_minor": 2
}
