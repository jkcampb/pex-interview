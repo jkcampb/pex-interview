{
 "cells": [
  {
   "cell_type": "code",
   "execution_count": 1,
   "metadata": {},
   "outputs": [],
   "source": [
    "import cv2\n",
    "import json\n",
    "import numpy as np\n",
    "import pandas as pd\n",
    "import youtube_dl"
   ]
  },
  {
   "cell_type": "code",
   "execution_count": 4,
   "metadata": {},
   "outputs": [
    {
     "data": {
      "text/html": [
       "<div>\n",
       "<style scoped>\n",
       "    .dataframe tbody tr th:only-of-type {\n",
       "        vertical-align: middle;\n",
       "    }\n",
       "\n",
       "    .dataframe tbody tr th {\n",
       "        vertical-align: top;\n",
       "    }\n",
       "\n",
       "    .dataframe thead th {\n",
       "        text-align: right;\n",
       "    }\n",
       "</style>\n",
       "<table border=\"1\" class=\"dataframe\">\n",
       "  <thead>\n",
       "    <tr style=\"text-align: right;\">\n",
       "      <th></th>\n",
       "      <th>labels</th>\n",
       "      <th>target</th>\n",
       "      <th>yt8m_id</th>\n",
       "      <th>yt_id</th>\n",
       "    </tr>\n",
       "  </thead>\n",
       "  <tbody>\n",
       "    <tr>\n",
       "      <th>0</th>\n",
       "      <td>[88, 184, 420, 514]</td>\n",
       "      <td>indoors</td>\n",
       "      <td>k5a7</td>\n",
       "      <td>LLf2i_EK6RU</td>\n",
       "    </tr>\n",
       "    <tr>\n",
       "      <th>1</th>\n",
       "      <td>[15, 18, 60, 87, 545, 1696]</td>\n",
       "      <td>outdoors</td>\n",
       "      <td>Nda7</td>\n",
       "      <td>bkK-qbwAgJo</td>\n",
       "    </tr>\n",
       "    <tr>\n",
       "      <th>2</th>\n",
       "      <td>[511, 514, 1148, 2277, 2405]</td>\n",
       "      <td>indoors</td>\n",
       "      <td>Dca7</td>\n",
       "      <td>jsFiMne0Eyk</td>\n",
       "    </tr>\n",
       "    <tr>\n",
       "      <th>3</th>\n",
       "      <td>[60]</td>\n",
       "      <td>outdoors</td>\n",
       "      <td>OEa7</td>\n",
       "      <td>p4Ub6lYdK38</td>\n",
       "    </tr>\n",
       "    <tr>\n",
       "      <th>4</th>\n",
       "      <td>[11, 20, 22, 29, 176, 307, 2561]</td>\n",
       "      <td>indoors</td>\n",
       "      <td>EMa7</td>\n",
       "      <td>KW2WY3GIpt4</td>\n",
       "    </tr>\n",
       "    <tr>\n",
       "      <th>...</th>\n",
       "      <td>...</td>\n",
       "      <td>...</td>\n",
       "      <td>...</td>\n",
       "      <td>...</td>\n",
       "    </tr>\n",
       "    <tr>\n",
       "      <th>2891</th>\n",
       "      <td>[11, 262, 370]</td>\n",
       "      <td>outdoors</td>\n",
       "      <td>sa9Y</td>\n",
       "      <td>RF_c2Zp5AhU</td>\n",
       "    </tr>\n",
       "    <tr>\n",
       "      <th>2892</th>\n",
       "      <td>[184, 191, 985]</td>\n",
       "      <td>indoors</td>\n",
       "      <td>jD9Y</td>\n",
       "      <td>3GHSzGIqgTg</td>\n",
       "    </tr>\n",
       "    <tr>\n",
       "      <th>2893</th>\n",
       "      <td>[60, 210, 685]</td>\n",
       "      <td>outdoors</td>\n",
       "      <td>lV9Y</td>\n",
       "      <td>xK2AdjZBNoA</td>\n",
       "    </tr>\n",
       "    <tr>\n",
       "      <th>2894</th>\n",
       "      <td>[60, 2701]</td>\n",
       "      <td>outdoors</td>\n",
       "      <td>F99Y</td>\n",
       "      <td>6w6VXsszoak</td>\n",
       "    </tr>\n",
       "    <tr>\n",
       "      <th>2895</th>\n",
       "      <td>[60, 141, 247, 396]</td>\n",
       "      <td>outdoors</td>\n",
       "      <td>lv9Y</td>\n",
       "      <td>9js7VPIdPlE</td>\n",
       "    </tr>\n",
       "  </tbody>\n",
       "</table>\n",
       "<p>2896 rows × 4 columns</p>\n",
       "</div>"
      ],
      "text/plain": [
       "                                labels    target yt8m_id        yt_id\n",
       "0                  [88, 184, 420, 514]   indoors    k5a7  LLf2i_EK6RU\n",
       "1          [15, 18, 60, 87, 545, 1696]  outdoors    Nda7  bkK-qbwAgJo\n",
       "2         [511, 514, 1148, 2277, 2405]   indoors    Dca7  jsFiMne0Eyk\n",
       "3                                 [60]  outdoors    OEa7  p4Ub6lYdK38\n",
       "4     [11, 20, 22, 29, 176, 307, 2561]   indoors    EMa7  KW2WY3GIpt4\n",
       "...                                ...       ...     ...          ...\n",
       "2891                    [11, 262, 370]  outdoors    sa9Y  RF_c2Zp5AhU\n",
       "2892                   [184, 191, 985]   indoors    jD9Y  3GHSzGIqgTg\n",
       "2893                    [60, 210, 685]  outdoors    lV9Y  xK2AdjZBNoA\n",
       "2894                        [60, 2701]  outdoors    F99Y  6w6VXsszoak\n",
       "2895               [60, 141, 247, 396]  outdoors    lv9Y  9js7VPIdPlE\n",
       "\n",
       "[2896 rows x 4 columns]"
      ]
     },
     "execution_count": 4,
     "metadata": {},
     "output_type": "execute_result"
    }
   ],
   "source": [
    "vids_df = pd.read_csv('../data/yt8m_indoor_outdoor_labels_id.csv', index_col=0)\n",
    "vids_df"
   ]
  },
  {
   "cell_type": "markdown",
   "metadata": {},
   "source": [
    "### Using Youtube_DL library\n",
    "Lets see what the info looks like"
   ]
  },
  {
   "cell_type": "code",
   "execution_count": 8,
   "metadata": {
    "scrolled": true
   },
   "outputs": [
    {
     "name": "stdout",
     "output_type": "stream",
     "text": [
      "[youtube] LLf2i_EK6RU: Downloading webpage\n",
      "[youtube] LLf2i_EK6RU: Downloading video info webpage\n",
      "{'id': 'LLf2i_EK6RU', 'uploader': 'Canal Casa Sul', 'uploader_id': 'ProgramaCasaSul', 'uploader_url': 'http://www.youtube.com/user/ProgramaCasaSul', 'channel_id': 'UCdEC-C0_i1-GJTfrpkEv_qw', 'channel_url': 'http://www.youtube.com/channel/UCdEC-C0_i1-GJTfrpkEv_qw', 'upload_date': '20110829', 'license': None, 'creator': 'Spyro Gyra', 'title': 'IDEIAS PARA ILUMINAR QUARTO E BANHEIRO DE UM JEITO ORIGINAL', 'alt_title': \"Not for Nothin'\", 'thumbnail': 'https://i.ytimg.com/vi/LLf2i_EK6RU/hqdefault.jpg', 'description': 'Ambientes distintos com um toque em comum: a iluminação. Veja o que foi feito em um quarto de moça e um banheiro público a partir de dicas da GREY HOUSE, na Casacor Paraná 2011 e que continuam atuais', 'categories': ['Howto & Style'], 'tags': ['iluminação', 'decoração de quarto', 'decoração de banheiros', 'greyhouse', 'marcelo lopes', 'rolim de moura', 'projeto luminotécnico', 'iluminação de banheiro', 'iluminação de quarto', 'casacor parana'], 'subtitles': {}, 'automatic_captions': {}, 'duration': 229, 'age_limit': 0, 'annotations': None, 'chapters': None, 'webpage_url': 'https://www.youtube.com/watch?v=LLf2i_EK6RU', 'view_count': 7906, 'like_count': 18, 'dislike_count': 1, 'average_rating': 4.7894735, 'formats': [{'format_id': '249', 'url': 'https://r6---sn-qxoedn7e.googlevideo.com/videoplayback?expire=1573804249&ei=eQTOXbCJNruAir4Pi7eD6Ac&ip=71.218.115.0&id=o-ALaQ5w4MUHO0MjjdOwfz3LP7l4cflSgCnKJChDLl51i3&itag=249&source=youtube&requiressl=yes&mm=31%2C29&mn=sn-qxoedn7e%2Csn-qxo7rn7e&ms=au%2Crdu&mv=m&mvi=5&pl=15&initcwndbps=862500&mime=audio%2Fwebm&gir=yes&clen=1440561&dur=228.901&lmt=1508108167007139&mt=1573782541&fvip=6&keepalive=yes&fexp=23842630&c=WEB&sparams=expire%2Cei%2Cip%2Cid%2Citag%2Csource%2Crequiressl%2Cmime%2Cgir%2Cclen%2Cdur%2Clmt&lsparams=mm%2Cmn%2Cms%2Cmv%2Cmvi%2Cpl%2Cinitcwndbps&lsig=AHylml4wRAIgJAz0pIscDE31pszTIzBEiOg7wzKnTnyhx6wNydutaHQCID-sFGFbsY9gFGrGk37s1OXS9qLsiRrwl5dnc9jH50CJ&sig=ALgxI2wwRgIhAMi04968hXJdfnRljg6NL_k7C226rJIRiGbWf0kSA0cgAiEAsWajihdVkmloeosEk6LrowBGYYa3xIjP-7-5nyisMKA=&ratebypass=yes', 'player_url': '/yts/jsbin/player_ias-vflFlp-mq/en_US/base.js', 'ext': 'webm', 'format_note': 'tiny', 'acodec': 'opus', 'abr': 50, 'asr': 48000, 'filesize': 1440561, 'fps': None, 'height': None, 'tbr': 57.923, 'width': None, 'vcodec': 'none', 'downloader_options': {'http_chunk_size': 10485760}, 'format': '249 - audio only (tiny)', 'protocol': 'https', 'http_headers': {'User-Agent': 'Mozilla/5.0 (Windows NT 10.0; Win64; x64) AppleWebKit/537.36 (KHTML, like Gecko) Chrome/75.0.3749.0 Safari/537.36', 'Accept-Charset': 'ISO-8859-1,utf-8;q=0.7,*;q=0.7', 'Accept': 'text/html,application/xhtml+xml,application/xml;q=0.9,*/*;q=0.8', 'Accept-Encoding': 'gzip, deflate', 'Accept-Language': 'en-us,en;q=0.5'}}, {'format_id': '250', 'url': 'https://r6---sn-qxoedn7e.googlevideo.com/videoplayback?expire=1573804249&ei=eQTOXbCJNruAir4Pi7eD6Ac&ip=71.218.115.0&id=o-ALaQ5w4MUHO0MjjdOwfz3LP7l4cflSgCnKJChDLl51i3&itag=250&source=youtube&requiressl=yes&mm=31%2C29&mn=sn-qxoedn7e%2Csn-qxo7rn7e&ms=au%2Crdu&mv=m&mvi=5&pl=15&initcwndbps=862500&mime=audio%2Fwebm&gir=yes&clen=1864991&dur=228.901&lmt=1508108169083345&mt=1573782541&fvip=6&keepalive=yes&fexp=23842630&c=WEB&sparams=expire%2Cei%2Cip%2Cid%2Citag%2Csource%2Crequiressl%2Cmime%2Cgir%2Cclen%2Cdur%2Clmt&lsparams=mm%2Cmn%2Cms%2Cmv%2Cmvi%2Cpl%2Cinitcwndbps&lsig=AHylml4wRAIgJAz0pIscDE31pszTIzBEiOg7wzKnTnyhx6wNydutaHQCID-sFGFbsY9gFGrGk37s1OXS9qLsiRrwl5dnc9jH50CJ&sig=ALgxI2wwRgIhAP1yvHS9BaZyAX6CWLXpOvHAIEsOwT51LLVrWdPovMKIAiEAlbVq0hDNXbidinUgLVSj7_EmvVDEGb0ZxowvF9aYzbo=&ratebypass=yes', 'player_url': '/yts/jsbin/player_ias-vflFlp-mq/en_US/base.js', 'ext': 'webm', 'format_note': 'tiny', 'acodec': 'opus', 'abr': 70, 'asr': 48000, 'filesize': 1864991, 'fps': None, 'height': None, 'tbr': 75.28, 'width': None, 'vcodec': 'none', 'downloader_options': {'http_chunk_size': 10485760}, 'format': '250 - audio only (tiny)', 'protocol': 'https', 'http_headers': {'User-Agent': 'Mozilla/5.0 (Windows NT 10.0; Win64; x64) AppleWebKit/537.36 (KHTML, like Gecko) Chrome/75.0.3749.0 Safari/537.36', 'Accept-Charset': 'ISO-8859-1,utf-8;q=0.7,*;q=0.7', 'Accept': 'text/html,application/xhtml+xml,application/xml;q=0.9,*/*;q=0.8', 'Accept-Encoding': 'gzip, deflate', 'Accept-Language': 'en-us,en;q=0.5'}}, {'format_id': '140', 'url': 'https://r6---sn-qxoedn7e.googlevideo.com/videoplayback?expire=1573804249&ei=eQTOXbCJNruAir4Pi7eD6Ac&ip=71.218.115.0&id=o-ALaQ5w4MUHO0MjjdOwfz3LP7l4cflSgCnKJChDLl51i3&itag=140&source=youtube&requiressl=yes&mm=31%2C29&mn=sn-qxoedn7e%2Csn-qxo7rn7e&ms=au%2Crdu&mv=m&mvi=5&pl=15&initcwndbps=862500&mime=audio%2Fmp4&gir=yes&clen=3637348&dur=228.948&lmt=1377574978117395&mt=1573782541&fvip=6&keepalive=yes&fexp=23842630&c=WEB&sparams=expire%2Cei%2Cip%2Cid%2Citag%2Csource%2Crequiressl%2Cmime%2Cgir%2Cclen%2Cdur%2Clmt&lsparams=mm%2Cmn%2Cms%2Cmv%2Cmvi%2Cpl%2Cinitcwndbps&lsig=AHylml4wRAIgJAz0pIscDE31pszTIzBEiOg7wzKnTnyhx6wNydutaHQCID-sFGFbsY9gFGrGk37s1OXS9qLsiRrwl5dnc9jH50CJ&sig=ALgxI2wwRgIhAPjv_DpyqUS-2BC13Bpc1ZUgyk3X_a7OI-NYRCzVSA-GAiEA6B6jWd_TXyVQypwsrMT1IehvOlfaYSiV2KoVMuGf2N8=&ratebypass=yes', 'player_url': '/yts/jsbin/player_ias-vflFlp-mq/en_US/base.js', 'ext': 'm4a', 'format_note': 'tiny', 'acodec': 'mp4a.40.2', 'abr': 128, 'container': 'm4a_dash', 'asr': 44100, 'filesize': 3637348, 'fps': None, 'height': None, 'tbr': 127.905, 'width': None, 'vcodec': 'none', 'downloader_options': {'http_chunk_size': 10485760}, 'format': '140 - audio only (tiny)', 'protocol': 'https', 'http_headers': {'User-Agent': 'Mozilla/5.0 (Windows NT 10.0; Win64; x64) AppleWebKit/537.36 (KHTML, like Gecko) Chrome/75.0.3749.0 Safari/537.36', 'Accept-Charset': 'ISO-8859-1,utf-8;q=0.7,*;q=0.7', 'Accept': 'text/html,application/xhtml+xml,application/xml;q=0.9,*/*;q=0.8', 'Accept-Encoding': 'gzip, deflate', 'Accept-Language': 'en-us,en;q=0.5'}}, {'format_id': '251', 'url': 'https://r6---sn-qxoedn7e.googlevideo.com/videoplayback?expire=1573804249&ei=eQTOXbCJNruAir4Pi7eD6Ac&ip=71.218.115.0&id=o-ALaQ5w4MUHO0MjjdOwfz3LP7l4cflSgCnKJChDLl51i3&itag=251&source=youtube&requiressl=yes&mm=31%2C29&mn=sn-qxoedn7e%2Csn-qxo7rn7e&ms=au%2Crdu&mv=m&mvi=5&pl=15&initcwndbps=862500&mime=audio%2Fwebm&gir=yes&clen=3608486&dur=228.901&lmt=1508108169601925&mt=1573782541&fvip=6&keepalive=yes&fexp=23842630&c=WEB&sparams=expire%2Cei%2Cip%2Cid%2Citag%2Csource%2Crequiressl%2Cmime%2Cgir%2Cclen%2Cdur%2Clmt&lsparams=mm%2Cmn%2Cms%2Cmv%2Cmvi%2Cpl%2Cinitcwndbps&lsig=AHylml4wRAIgJAz0pIscDE31pszTIzBEiOg7wzKnTnyhx6wNydutaHQCID-sFGFbsY9gFGrGk37s1OXS9qLsiRrwl5dnc9jH50CJ&sig=ALgxI2wwRQIhAKIjSyd8XASQPA9uXkgRwwhW2Oi_9X6wqPr0LA62bLbjAiBsCDz13c47TyGg6U1WCNcTnfbT1HTP33M7hm_6tq4AqA==&ratebypass=yes', 'player_url': '/yts/jsbin/player_ias-vflFlp-mq/en_US/base.js', 'ext': 'webm', 'format_note': 'tiny', 'acodec': 'opus', 'abr': 160, 'asr': 48000, 'filesize': 3608486, 'fps': None, 'height': None, 'tbr': 146.929, 'width': None, 'vcodec': 'none', 'downloader_options': {'http_chunk_size': 10485760}, 'format': '251 - audio only (tiny)', 'protocol': 'https', 'http_headers': {'User-Agent': 'Mozilla/5.0 (Windows NT 10.0; Win64; x64) AppleWebKit/537.36 (KHTML, like Gecko) Chrome/75.0.3749.0 Safari/537.36', 'Accept-Charset': 'ISO-8859-1,utf-8;q=0.7,*;q=0.7', 'Accept': 'text/html,application/xhtml+xml,application/xml;q=0.9,*/*;q=0.8', 'Accept-Encoding': 'gzip, deflate', 'Accept-Language': 'en-us,en;q=0.5'}}, {'format_id': '278', 'url': 'https://r6---sn-qxoedn7e.googlevideo.com/videoplayback?expire=1573804249&ei=eQTOXbCJNruAir4Pi7eD6Ac&ip=71.218.115.0&id=o-ALaQ5w4MUHO0MjjdOwfz3LP7l4cflSgCnKJChDLl51i3&itag=278&aitags=133%2C134%2C135%2C160%2C242%2C243%2C244%2C278&source=youtube&requiressl=yes&mm=31%2C29&mn=sn-qxoedn7e%2Csn-qxo7rn7e&ms=au%2Crdu&mv=m&mvi=5&pl=15&initcwndbps=862500&mime=video%2Fwebm&gir=yes&clen=2355072&dur=228.795&lmt=1508108616091513&mt=1573782541&fvip=6&keepalive=yes&fexp=23842630&c=WEB&sparams=expire%2Cei%2Cip%2Cid%2Caitags%2Csource%2Crequiressl%2Cmime%2Cgir%2Cclen%2Cdur%2Clmt&lsparams=mm%2Cmn%2Cms%2Cmv%2Cmvi%2Cpl%2Cinitcwndbps&lsig=AHylml4wRAIgJAz0pIscDE31pszTIzBEiOg7wzKnTnyhx6wNydutaHQCID-sFGFbsY9gFGrGk37s1OXS9qLsiRrwl5dnc9jH50CJ&sig=ALgxI2wwRgIhAPvOXusRVIezY-c6p_d2f5GPDzz1DAIO1vl9XpdU1_sGAiEAzGJ7sPnySLQjBUewCmtWLgr9moUOQ8s77LdMS4MEtuo=&ratebypass=yes', 'player_url': '/yts/jsbin/player_ias-vflFlp-mq/en_US/base.js', 'ext': 'webm', 'height': 140, 'format_note': '144p', 'container': 'webm', 'vcodec': 'vp9', 'asr': None, 'filesize': 2355072, 'fps': 30, 'tbr': 94.333, 'width': 256, 'acodec': 'none', 'downloader_options': {'http_chunk_size': 10485760}, 'format': '278 - 256x140 (144p)', 'protocol': 'https', 'http_headers': {'User-Agent': 'Mozilla/5.0 (Windows NT 10.0; Win64; x64) AppleWebKit/537.36 (KHTML, like Gecko) Chrome/75.0.3749.0 Safari/537.36', 'Accept-Charset': 'ISO-8859-1,utf-8;q=0.7,*;q=0.7', 'Accept': 'text/html,application/xhtml+xml,application/xml;q=0.9,*/*;q=0.8', 'Accept-Encoding': 'gzip, deflate', 'Accept-Language': 'en-us,en;q=0.5'}}, {'format_id': '160', 'url': 'https://r6---sn-qxoedn7e.googlevideo.com/videoplayback?expire=1573804249&ei=eQTOXbCJNruAir4Pi7eD6Ac&ip=71.218.115.0&id=o-ALaQ5w4MUHO0MjjdOwfz3LP7l4cflSgCnKJChDLl51i3&itag=160&aitags=133%2C134%2C135%2C160%2C242%2C243%2C244%2C278&source=youtube&requiressl=yes&mm=31%2C29&mn=sn-qxoedn7e%2Csn-qxo7rn7e&ms=au%2Crdu&mv=m&mvi=5&pl=15&initcwndbps=862500&mime=video%2Fmp4&gir=yes&clen=3240743&dur=228.795&lmt=1377574978030987&mt=1573782541&fvip=6&keepalive=yes&fexp=23842630&c=WEB&sparams=expire%2Cei%2Cip%2Cid%2Caitags%2Csource%2Crequiressl%2Cmime%2Cgir%2Cclen%2Cdur%2Clmt&lsparams=mm%2Cmn%2Cms%2Cmv%2Cmvi%2Cpl%2Cinitcwndbps&lsig=AHylml4wRAIgJAz0pIscDE31pszTIzBEiOg7wzKnTnyhx6wNydutaHQCID-sFGFbsY9gFGrGk37s1OXS9qLsiRrwl5dnc9jH50CJ&sig=ALgxI2wwRAIgMjVMPlG-7kAQElI8frds1LX3hdIX9o3YTlDwSkZODT4CIG4ohZ5ZEuJQM9FmoLfQoHLr9bNGzva4Ow4TiRFD7PG8&ratebypass=yes', 'player_url': '/yts/jsbin/player_ias-vflFlp-mq/en_US/base.js', 'ext': 'mp4', 'height': 140, 'format_note': '144p', 'vcodec': 'avc1.42c00c', 'asr': None, 'filesize': 3240743, 'fps': 15, 'tbr': 116.864, 'width': 256, 'acodec': 'none', 'downloader_options': {'http_chunk_size': 10485760}, 'format': '160 - 256x140 (144p)', 'protocol': 'https', 'http_headers': {'User-Agent': 'Mozilla/5.0 (Windows NT 10.0; Win64; x64) AppleWebKit/537.36 (KHTML, like Gecko) Chrome/75.0.3749.0 Safari/537.36', 'Accept-Charset': 'ISO-8859-1,utf-8;q=0.7,*;q=0.7', 'Accept': 'text/html,application/xhtml+xml,application/xml;q=0.9,*/*;q=0.8', 'Accept-Encoding': 'gzip, deflate', 'Accept-Language': 'en-us,en;q=0.5'}}, {'format_id': '242', 'url': 'https://r6---sn-qxoedn7e.googlevideo.com/videoplayback?expire=1573804249&ei=eQTOXbCJNruAir4Pi7eD6Ac&ip=71.218.115.0&id=o-ALaQ5w4MUHO0MjjdOwfz3LP7l4cflSgCnKJChDLl51i3&itag=242&aitags=133%2C134%2C135%2C160%2C242%2C243%2C244%2C278&source=youtube&requiressl=yes&mm=31%2C29&mn=sn-qxoedn7e%2Csn-qxo7rn7e&ms=au%2Crdu&mv=m&mvi=5&pl=15&initcwndbps=862500&mime=video%2Fwebm&gir=yes&clen=4605436&dur=228.795&lmt=1508108617339759&mt=1573782541&fvip=6&keepalive=yes&fexp=23842630&c=WEB&sparams=expire%2Cei%2Cip%2Cid%2Caitags%2Csource%2Crequiressl%2Cmime%2Cgir%2Cclen%2Cdur%2Clmt&lsparams=mm%2Cmn%2Cms%2Cmv%2Cmvi%2Cpl%2Cinitcwndbps&lsig=AHylml4wRAIgJAz0pIscDE31pszTIzBEiOg7wzKnTnyhx6wNydutaHQCID-sFGFbsY9gFGrGk37s1OXS9qLsiRrwl5dnc9jH50CJ&sig=ALgxI2wwRAIgK6tUUuUQYvJ1hijBk2ctRpY7R2kLkhPiiBXV1Xyx3UACIGC2r6OMZuIuQBiVxMrvW1Z975Oy1zL8WhcmlizsTBbp&ratebypass=yes', 'player_url': '/yts/jsbin/player_ias-vflFlp-mq/en_US/base.js', 'ext': 'webm', 'height': 234, 'format_note': '240p', 'vcodec': 'vp9', 'asr': None, 'filesize': 4605436, 'fps': 30, 'tbr': 218.765, 'width': 426, 'acodec': 'none', 'downloader_options': {'http_chunk_size': 10485760}, 'format': '242 - 426x234 (240p)', 'protocol': 'https', 'http_headers': {'User-Agent': 'Mozilla/5.0 (Windows NT 10.0; Win64; x64) AppleWebKit/537.36 (KHTML, like Gecko) Chrome/75.0.3749.0 Safari/537.36', 'Accept-Charset': 'ISO-8859-1,utf-8;q=0.7,*;q=0.7', 'Accept': 'text/html,application/xhtml+xml,application/xml;q=0.9,*/*;q=0.8', 'Accept-Encoding': 'gzip, deflate', 'Accept-Language': 'en-us,en;q=0.5'}}, {'format_id': '133', 'url': 'https://r6---sn-qxoedn7e.googlevideo.com/videoplayback?expire=1573804249&ei=eQTOXbCJNruAir4Pi7eD6Ac&ip=71.218.115.0&id=o-ALaQ5w4MUHO0MjjdOwfz3LP7l4cflSgCnKJChDLl51i3&itag=133&aitags=133%2C134%2C135%2C160%2C242%2C243%2C244%2C278&source=youtube&requiressl=yes&mm=31%2C29&mn=sn-qxoedn7e%2Csn-qxo7rn7e&ms=au%2Crdu&mv=m&mvi=5&pl=15&initcwndbps=862500&mime=video%2Fmp4&gir=yes&clen=6997709&dur=228.795&lmt=1377574979076269&mt=1573782541&fvip=6&keepalive=yes&fexp=23842630&c=WEB&sparams=expire%2Cei%2Cip%2Cid%2Caitags%2Csource%2Crequiressl%2Cmime%2Cgir%2Cclen%2Cdur%2Clmt&lsparams=mm%2Cmn%2Cms%2Cmv%2Cmvi%2Cpl%2Cinitcwndbps&lsig=AHylml4wRAIgJAz0pIscDE31pszTIzBEiOg7wzKnTnyhx6wNydutaHQCID-sFGFbsY9gFGrGk37s1OXS9qLsiRrwl5dnc9jH50CJ&sig=ALgxI2wwRgIhAPMILEVrJ7I3oSynQW56CrFi1H2SA_0j8R-w48_bYHleAiEAqjBQ8koCi0r5UiDwMdJAyya6Zh4NwBsaqsASN_oUP4Q=&ratebypass=yes', 'player_url': '/yts/jsbin/player_ias-vflFlp-mq/en_US/base.js', 'ext': 'mp4', 'height': 234, 'format_note': '240p', 'vcodec': 'avc1.4d4015', 'asr': None, 'filesize': 6997709, 'fps': 30, 'tbr': 255.47, 'width': 426, 'acodec': 'none', 'downloader_options': {'http_chunk_size': 10485760}, 'format': '133 - 426x234 (240p)', 'protocol': 'https', 'http_headers': {'User-Agent': 'Mozilla/5.0 (Windows NT 10.0; Win64; x64) AppleWebKit/537.36 (KHTML, like Gecko) Chrome/75.0.3749.0 Safari/537.36', 'Accept-Charset': 'ISO-8859-1,utf-8;q=0.7,*;q=0.7', 'Accept': 'text/html,application/xhtml+xml,application/xml;q=0.9,*/*;q=0.8', 'Accept-Encoding': 'gzip, deflate', 'Accept-Language': 'en-us,en;q=0.5'}}, {'format_id': '243', 'url': 'https://r6---sn-qxoedn7e.googlevideo.com/videoplayback?expire=1573804249&ei=eQTOXbCJNruAir4Pi7eD6Ac&ip=71.218.115.0&id=o-ALaQ5w4MUHO0MjjdOwfz3LP7l4cflSgCnKJChDLl51i3&itag=243&aitags=133%2C134%2C135%2C160%2C242%2C243%2C244%2C278&source=youtube&requiressl=yes&mm=31%2C29&mn=sn-qxoedn7e%2Csn-qxo7rn7e&ms=au%2Crdu&mv=m&mvi=5&pl=15&initcwndbps=862500&mime=video%2Fwebm&gir=yes&clen=9241483&dur=228.795&lmt=1508108616346144&mt=1573782541&fvip=6&keepalive=yes&fexp=23842630&c=WEB&sparams=expire%2Cei%2Cip%2Cid%2Caitags%2Csource%2Crequiressl%2Cmime%2Cgir%2Cclen%2Cdur%2Clmt&lsparams=mm%2Cmn%2Cms%2Cmv%2Cmvi%2Cpl%2Cinitcwndbps&lsig=AHylml4wRAIgJAz0pIscDE31pszTIzBEiOg7wzKnTnyhx6wNydutaHQCID-sFGFbsY9gFGrGk37s1OXS9qLsiRrwl5dnc9jH50CJ&sig=ALgxI2wwRgIhAN511-nxg4Ev_Ov0mWAYnLrA9tyJemi_9eqnKEQP8xP4AiEA25DfbYGrr9VFfAuSp1y6N1km6GWwc7sXxGWfL7JZuzs=&ratebypass=yes', 'player_url': '/yts/jsbin/player_ias-vflFlp-mq/en_US/base.js', 'ext': 'webm', 'height': 352, 'format_note': '360p', 'vcodec': 'vp9', 'asr': None, 'filesize': 9241483, 'fps': 30, 'tbr': 402.22, 'width': 640, 'acodec': 'none', 'downloader_options': {'http_chunk_size': 10485760}, 'format': '243 - 640x352 (360p)', 'protocol': 'https', 'http_headers': {'User-Agent': 'Mozilla/5.0 (Windows NT 10.0; Win64; x64) AppleWebKit/537.36 (KHTML, like Gecko) Chrome/75.0.3749.0 Safari/537.36', 'Accept-Charset': 'ISO-8859-1,utf-8;q=0.7,*;q=0.7', 'Accept': 'text/html,application/xhtml+xml,application/xml;q=0.9,*/*;q=0.8', 'Accept-Encoding': 'gzip, deflate', 'Accept-Language': 'en-us,en;q=0.5'}}, {'format_id': '134', 'url': 'https://r6---sn-qxoedn7e.googlevideo.com/videoplayback?expire=1573804249&ei=eQTOXbCJNruAir4Pi7eD6Ac&ip=71.218.115.0&id=o-ALaQ5w4MUHO0MjjdOwfz3LP7l4cflSgCnKJChDLl51i3&itag=134&aitags=133%2C134%2C135%2C160%2C242%2C243%2C244%2C278&source=youtube&requiressl=yes&mm=31%2C29&mn=sn-qxoedn7e%2Csn-qxo7rn7e&ms=au%2Crdu&mv=m&mvi=5&pl=15&initcwndbps=862500&mime=video%2Fmp4&gir=yes&clen=11025760&dur=228.795&lmt=1377574976959511&mt=1573782541&fvip=6&keepalive=yes&fexp=23842630&c=WEB&sparams=expire%2Cei%2Cip%2Cid%2Caitags%2Csource%2Crequiressl%2Cmime%2Cgir%2Cclen%2Cdur%2Clmt&lsparams=mm%2Cmn%2Cms%2Cmv%2Cmvi%2Cpl%2Cinitcwndbps&lsig=AHylml4wRAIgJAz0pIscDE31pszTIzBEiOg7wzKnTnyhx6wNydutaHQCID-sFGFbsY9gFGrGk37s1OXS9qLsiRrwl5dnc9jH50CJ&sig=ALgxI2wwRQIgAnPzgT5Okp9y19M6Ml7WVVfWyBUNHXWQkaLgG_CXv0cCIQCO_OBlcCORBBaBdEbDOA0_wjr__CzPLn2EV8FiMnGy7Q==&ratebypass=yes', 'player_url': '/yts/jsbin/player_ias-vflFlp-mq/en_US/base.js', 'ext': 'mp4', 'height': 352, 'format_note': '360p', 'vcodec': 'avc1.4d401e', 'asr': None, 'filesize': 11025760, 'fps': 30, 'tbr': 603.658, 'width': 640, 'acodec': 'none', 'downloader_options': {'http_chunk_size': 10485760}, 'format': '134 - 640x352 (360p)', 'protocol': 'https', 'http_headers': {'User-Agent': 'Mozilla/5.0 (Windows NT 10.0; Win64; x64) AppleWebKit/537.36 (KHTML, like Gecko) Chrome/75.0.3749.0 Safari/537.36', 'Accept-Charset': 'ISO-8859-1,utf-8;q=0.7,*;q=0.7', 'Accept': 'text/html,application/xhtml+xml,application/xml;q=0.9,*/*;q=0.8', 'Accept-Encoding': 'gzip, deflate', 'Accept-Language': 'en-us,en;q=0.5'}}, {'format_id': '244', 'url': 'https://r6---sn-qxoedn7e.googlevideo.com/videoplayback?expire=1573804249&ei=eQTOXbCJNruAir4Pi7eD6Ac&ip=71.218.115.0&id=o-ALaQ5w4MUHO0MjjdOwfz3LP7l4cflSgCnKJChDLl51i3&itag=244&aitags=133%2C134%2C135%2C160%2C242%2C243%2C244%2C278&source=youtube&requiressl=yes&mm=31%2C29&mn=sn-qxoedn7e%2Csn-qxo7rn7e&ms=au%2Crdu&mv=m&mvi=5&pl=15&initcwndbps=862500&mime=video%2Fwebm&gir=yes&clen=18267782&dur=228.795&lmt=1508108616224520&mt=1573782541&fvip=6&keepalive=yes&fexp=23842630&c=WEB&sparams=expire%2Cei%2Cip%2Cid%2Caitags%2Csource%2Crequiressl%2Cmime%2Cgir%2Cclen%2Cdur%2Clmt&lsparams=mm%2Cmn%2Cms%2Cmv%2Cmvi%2Cpl%2Cinitcwndbps&lsig=AHylml4wRAIgJAz0pIscDE31pszTIzBEiOg7wzKnTnyhx6wNydutaHQCID-sFGFbsY9gFGrGk37s1OXS9qLsiRrwl5dnc9jH50CJ&sig=ALgxI2wwRgIhAKTDRBd-8QWCGI6qcbWFEEQTxdYv_LSmrY3tlD91SQaoAiEAv9nnTPRn5SHD6sBJp90x_7APtof9mfgiTbj1thwQ0Dk=&ratebypass=yes', 'player_url': '/yts/jsbin/player_ias-vflFlp-mq/en_US/base.js', 'ext': 'webm', 'height': 470, 'format_note': '480p', 'vcodec': 'vp9', 'asr': None, 'filesize': 18267782, 'fps': 30, 'tbr': 744.863, 'width': 854, 'acodec': 'none', 'downloader_options': {'http_chunk_size': 10485760}, 'format': '244 - 854x470 (480p)', 'protocol': 'https', 'http_headers': {'User-Agent': 'Mozilla/5.0 (Windows NT 10.0; Win64; x64) AppleWebKit/537.36 (KHTML, like Gecko) Chrome/75.0.3749.0 Safari/537.36', 'Accept-Charset': 'ISO-8859-1,utf-8;q=0.7,*;q=0.7', 'Accept': 'text/html,application/xhtml+xml,application/xml;q=0.9,*/*;q=0.8', 'Accept-Encoding': 'gzip, deflate', 'Accept-Language': 'en-us,en;q=0.5'}}, {'format_id': '135', 'url': 'https://r6---sn-qxoedn7e.googlevideo.com/videoplayback?expire=1573804249&ei=eQTOXbCJNruAir4Pi7eD6Ac&ip=71.218.115.0&id=o-ALaQ5w4MUHO0MjjdOwfz3LP7l4cflSgCnKJChDLl51i3&itag=135&aitags=133%2C134%2C135%2C160%2C242%2C243%2C244%2C278&source=youtube&requiressl=yes&mm=31%2C29&mn=sn-qxoedn7e%2Csn-qxo7rn7e&ms=au%2Crdu&mv=m&mvi=5&pl=15&initcwndbps=862500&mime=video%2Fmp4&gir=yes&clen=25055283&dur=228.795&lmt=1377574978032375&mt=1573782541&fvip=6&keepalive=yes&fexp=23842630&c=WEB&sparams=expire%2Cei%2Cip%2Cid%2Caitags%2Csource%2Crequiressl%2Cmime%2Cgir%2Cclen%2Cdur%2Clmt&lsparams=mm%2Cmn%2Cms%2Cmv%2Cmvi%2Cpl%2Cinitcwndbps&lsig=AHylml4wRAIgJAz0pIscDE31pszTIzBEiOg7wzKnTnyhx6wNydutaHQCID-sFGFbsY9gFGrGk37s1OXS9qLsiRrwl5dnc9jH50CJ&sig=ALgxI2wwRgIhAIYfgEzZIIY6RtF2SrOOLDPo1meCDMyRGNGwZKnklLHGAiEA9LPt4hnrtJIecMRQ6ZRIAKH5n4hXgMElJUnwy45JANs=&ratebypass=yes', 'player_url': '/yts/jsbin/player_ias-vflFlp-mq/en_US/base.js', 'ext': 'mp4', 'height': 470, 'format_note': '480p', 'vcodec': 'avc1.4d401f', 'asr': None, 'filesize': 25055283, 'fps': 30, 'tbr': 1106.853, 'width': 854, 'acodec': 'none', 'downloader_options': {'http_chunk_size': 10485760}, 'format': '135 - 854x470 (480p)', 'protocol': 'https', 'http_headers': {'User-Agent': 'Mozilla/5.0 (Windows NT 10.0; Win64; x64) AppleWebKit/537.36 (KHTML, like Gecko) Chrome/75.0.3749.0 Safari/537.36', 'Accept-Charset': 'ISO-8859-1,utf-8;q=0.7,*;q=0.7', 'Accept': 'text/html,application/xhtml+xml,application/xml;q=0.9,*/*;q=0.8', 'Accept-Encoding': 'gzip, deflate', 'Accept-Language': 'en-us,en;q=0.5'}}, {'format_id': '43', 'url': 'https://r6---sn-qxoedn7e.googlevideo.com/videoplayback?expire=1573804249&ei=eQTOXbCJNruAir4Pi7eD6Ac&ip=71.218.115.0&id=o-ALaQ5w4MUHO0MjjdOwfz3LP7l4cflSgCnKJChDLl51i3&itag=43&source=youtube&requiressl=yes&mm=31%2C29&mn=sn-qxoedn7e%2Csn-qxo7rn7e&ms=au%2Crdu&mv=m&mvi=5&pl=15&initcwndbps=862500&mime=video%2Fwebm&gir=yes&clen=26212676&ratebypass=yes&dur=0.000&lmt=1314647760471291&mt=1573782541&fvip=6&fexp=23842630&c=WEB&sparams=expire%2Cei%2Cip%2Cid%2Citag%2Csource%2Crequiressl%2Cmime%2Cgir%2Cclen%2Cratebypass%2Cdur%2Clmt&lsparams=mm%2Cmn%2Cms%2Cmv%2Cmvi%2Cpl%2Cinitcwndbps&lsig=AHylml4wRAIgJAz0pIscDE31pszTIzBEiOg7wzKnTnyhx6wNydutaHQCID-sFGFbsY9gFGrGk37s1OXS9qLsiRrwl5dnc9jH50CJ&sig=ALgxI2wwRQIhAML28PCAPVI8Og6BDcl7aFGSDtE2tggzS6347r-3B19GAiBOGqHgaRsjMmkXY8MHLpRKh17R2yTBbZEkBJr3J6RmyQ==', 'player_url': '/yts/jsbin/player_ias-vflFlp-mq/en_US/base.js', 'ext': 'webm', 'width': 640, 'height': 360, 'acodec': 'vorbis', 'abr': 128, 'vcodec': 'vp8.0', 'asr': None, 'filesize': 26212676, 'format_note': '360p', 'fps': None, 'tbr': None, 'format': '43 - 640x360 (360p)', 'protocol': 'https', 'http_headers': {'User-Agent': 'Mozilla/5.0 (Windows NT 10.0; Win64; x64) AppleWebKit/537.36 (KHTML, like Gecko) Chrome/75.0.3749.0 Safari/537.36', 'Accept-Charset': 'ISO-8859-1,utf-8;q=0.7,*;q=0.7', 'Accept': 'text/html,application/xhtml+xml,application/xml;q=0.9,*/*;q=0.8', 'Accept-Encoding': 'gzip, deflate', 'Accept-Language': 'en-us,en;q=0.5'}}, {'format_id': '18', 'url': 'https://r6---sn-qxoedn7e.googlevideo.com/videoplayback?expire=1573804249&ei=eQTOXbCJNruAir4Pi7eD6Ac&ip=71.218.115.0&id=o-ALaQ5w4MUHO0MjjdOwfz3LP7l4cflSgCnKJChDLl51i3&itag=18&source=youtube&requiressl=yes&mm=31%2C29&mn=sn-qxoedn7e%2Csn-qxo7rn7e&ms=au%2Crdu&mv=m&mvi=5&pl=15&initcwndbps=862500&mime=video%2Fmp4&gir=yes&clen=17881737&ratebypass=yes&dur=228.828&lmt=1314643425706773&mt=1573782541&fvip=6&fexp=23842630&c=WEB&sparams=expire%2Cei%2Cip%2Cid%2Citag%2Csource%2Crequiressl%2Cmime%2Cgir%2Cclen%2Cratebypass%2Cdur%2Clmt&lsparams=mm%2Cmn%2Cms%2Cmv%2Cmvi%2Cpl%2Cinitcwndbps&lsig=AHylml4wRAIgJAz0pIscDE31pszTIzBEiOg7wzKnTnyhx6wNydutaHQCID-sFGFbsY9gFGrGk37s1OXS9qLsiRrwl5dnc9jH50CJ&sig=ALgxI2wwRQIhANazdYzEKXywWbeA0y8PjOn4aqlXMJ5XSSSI1y3T-dsQAiAs9h6n_pgSNJNNyJ_f2szeaZqTmOGUDAldOZYV2_rWDw==', 'player_url': '/yts/jsbin/player_ias-vflFlp-mq/en_US/base.js', 'ext': 'mp4', 'width': 640, 'height': 352, 'acodec': 'mp4a.40.2', 'abr': 96, 'vcodec': 'avc1.42001E', 'asr': 44100, 'filesize': 17881737, 'format_note': '360p', 'fps': None, 'tbr': 625.339, 'format': '18 - 640x352 (360p)', 'protocol': 'https', 'http_headers': {'User-Agent': 'Mozilla/5.0 (Windows NT 10.0; Win64; x64) AppleWebKit/537.36 (KHTML, like Gecko) Chrome/75.0.3749.0 Safari/537.36', 'Accept-Charset': 'ISO-8859-1,utf-8;q=0.7,*;q=0.7', 'Accept': 'text/html,application/xhtml+xml,application/xml;q=0.9,*/*;q=0.8', 'Accept-Encoding': 'gzip, deflate', 'Accept-Language': 'en-us,en;q=0.5'}}], 'is_live': None, 'start_time': None, 'end_time': None, 'series': None, 'season_number': None, 'episode_number': None, 'track': \"Not for Nothin'\", 'artist': 'Spyro Gyra', 'album': 'Down the Wire', 'release_date': None, 'release_year': None, 'extractor': 'youtube', 'webpage_url_basename': 'watch', 'extractor_key': 'Youtube', 'playlist': None, 'playlist_index': None, 'thumbnails': [{'url': 'https://i.ytimg.com/vi/LLf2i_EK6RU/hqdefault.jpg', 'id': '0'}], 'display_id': 'LLf2i_EK6RU', 'requested_subtitles': None, 'requested_formats': ({'format_id': '135', 'url': 'https://r6---sn-qxoedn7e.googlevideo.com/videoplayback?expire=1573804249&ei=eQTOXbCJNruAir4Pi7eD6Ac&ip=71.218.115.0&id=o-ALaQ5w4MUHO0MjjdOwfz3LP7l4cflSgCnKJChDLl51i3&itag=135&aitags=133%2C134%2C135%2C160%2C242%2C243%2C244%2C278&source=youtube&requiressl=yes&mm=31%2C29&mn=sn-qxoedn7e%2Csn-qxo7rn7e&ms=au%2Crdu&mv=m&mvi=5&pl=15&initcwndbps=862500&mime=video%2Fmp4&gir=yes&clen=25055283&dur=228.795&lmt=1377574978032375&mt=1573782541&fvip=6&keepalive=yes&fexp=23842630&c=WEB&sparams=expire%2Cei%2Cip%2Cid%2Caitags%2Csource%2Crequiressl%2Cmime%2Cgir%2Cclen%2Cdur%2Clmt&lsparams=mm%2Cmn%2Cms%2Cmv%2Cmvi%2Cpl%2Cinitcwndbps&lsig=AHylml4wRAIgJAz0pIscDE31pszTIzBEiOg7wzKnTnyhx6wNydutaHQCID-sFGFbsY9gFGrGk37s1OXS9qLsiRrwl5dnc9jH50CJ&sig=ALgxI2wwRgIhAIYfgEzZIIY6RtF2SrOOLDPo1meCDMyRGNGwZKnklLHGAiEA9LPt4hnrtJIecMRQ6ZRIAKH5n4hXgMElJUnwy45JANs=&ratebypass=yes', 'player_url': '/yts/jsbin/player_ias-vflFlp-mq/en_US/base.js', 'ext': 'mp4', 'height': 470, 'format_note': '480p', 'vcodec': 'avc1.4d401f', 'asr': None, 'filesize': 25055283, 'fps': 30, 'tbr': 1106.853, 'width': 854, 'acodec': 'none', 'downloader_options': {'http_chunk_size': 10485760}, 'format': '135 - 854x470 (480p)', 'protocol': 'https', 'http_headers': {'User-Agent': 'Mozilla/5.0 (Windows NT 10.0; Win64; x64) AppleWebKit/537.36 (KHTML, like Gecko) Chrome/75.0.3749.0 Safari/537.36', 'Accept-Charset': 'ISO-8859-1,utf-8;q=0.7,*;q=0.7', 'Accept': 'text/html,application/xhtml+xml,application/xml;q=0.9,*/*;q=0.8', 'Accept-Encoding': 'gzip, deflate', 'Accept-Language': 'en-us,en;q=0.5'}}, {'format_id': '251', 'url': 'https://r6---sn-qxoedn7e.googlevideo.com/videoplayback?expire=1573804249&ei=eQTOXbCJNruAir4Pi7eD6Ac&ip=71.218.115.0&id=o-ALaQ5w4MUHO0MjjdOwfz3LP7l4cflSgCnKJChDLl51i3&itag=251&source=youtube&requiressl=yes&mm=31%2C29&mn=sn-qxoedn7e%2Csn-qxo7rn7e&ms=au%2Crdu&mv=m&mvi=5&pl=15&initcwndbps=862500&mime=audio%2Fwebm&gir=yes&clen=3608486&dur=228.901&lmt=1508108169601925&mt=1573782541&fvip=6&keepalive=yes&fexp=23842630&c=WEB&sparams=expire%2Cei%2Cip%2Cid%2Citag%2Csource%2Crequiressl%2Cmime%2Cgir%2Cclen%2Cdur%2Clmt&lsparams=mm%2Cmn%2Cms%2Cmv%2Cmvi%2Cpl%2Cinitcwndbps&lsig=AHylml4wRAIgJAz0pIscDE31pszTIzBEiOg7wzKnTnyhx6wNydutaHQCID-sFGFbsY9gFGrGk37s1OXS9qLsiRrwl5dnc9jH50CJ&sig=ALgxI2wwRQIhAKIjSyd8XASQPA9uXkgRwwhW2Oi_9X6wqPr0LA62bLbjAiBsCDz13c47TyGg6U1WCNcTnfbT1HTP33M7hm_6tq4AqA==&ratebypass=yes', 'player_url': '/yts/jsbin/player_ias-vflFlp-mq/en_US/base.js', 'ext': 'webm', 'format_note': 'tiny', 'acodec': 'opus', 'abr': 160, 'asr': 48000, 'filesize': 3608486, 'fps': None, 'height': None, 'tbr': 146.929, 'width': None, 'vcodec': 'none', 'downloader_options': {'http_chunk_size': 10485760}, 'format': '251 - audio only (tiny)', 'protocol': 'https', 'http_headers': {'User-Agent': 'Mozilla/5.0 (Windows NT 10.0; Win64; x64) AppleWebKit/537.36 (KHTML, like Gecko) Chrome/75.0.3749.0 Safari/537.36', 'Accept-Charset': 'ISO-8859-1,utf-8;q=0.7,*;q=0.7', 'Accept': 'text/html,application/xhtml+xml,application/xml;q=0.9,*/*;q=0.8', 'Accept-Encoding': 'gzip, deflate', 'Accept-Language': 'en-us,en;q=0.5'}}), 'format': '135 - 854x470 (480p)+251 - audio only (tiny)', 'format_id': '135+251', 'width': 854, 'height': 470, 'resolution': None, 'fps': 30, 'vcodec': 'avc1.4d401f', 'vbr': None, 'stretched_ratio': None, 'acodec': 'opus', 'abr': 160, 'ext': 'mp4'}\n"
     ]
    }
   ],
   "source": [
    "ydl_options = {}\n",
    "ydl = youtube_dl.YoutubeDL(ydl_options)\n",
    "yt_info = ydl.extract_info('https://www.youtube.com/watch?v=LLf2i_EK6RU', download=False)\n",
    "print(yt_info)"
   ]
  },
  {
   "cell_type": "code",
   "execution_count": 9,
   "metadata": {},
   "outputs": [
    {
     "name": "stdout",
     "output_type": "stream",
     "text": [
      "dict_keys(['id', 'uploader', 'uploader_id', 'uploader_url', 'channel_id', 'channel_url', 'upload_date', 'license', 'creator', 'title', 'alt_title', 'thumbnail', 'description', 'categories', 'tags', 'subtitles', 'automatic_captions', 'duration', 'age_limit', 'annotations', 'chapters', 'webpage_url', 'view_count', 'like_count', 'dislike_count', 'average_rating', 'formats', 'is_live', 'start_time', 'end_time', 'series', 'season_number', 'episode_number', 'track', 'artist', 'album', 'release_date', 'release_year', 'extractor', 'webpage_url_basename', 'extractor_key', 'playlist', 'playlist_index', 'thumbnails', 'display_id', 'requested_subtitles', 'requested_formats', 'format', 'format_id', 'width', 'height', 'resolution', 'fps', 'vcodec', 'vbr', 'stretched_ratio', 'acodec', 'abr', 'ext'])\n"
     ]
    }
   ],
   "source": [
    "print(yt_info.keys())"
   ]
  },
  {
   "cell_type": "code",
   "execution_count": 18,
   "metadata": {},
   "outputs": [
    {
     "name": "stdout",
     "output_type": "stream",
     "text": [
      "['tiny', 'tiny', 'tiny', 'tiny', '144p', '144p', '240p', '240p', '360p', '360p', '480p', '480p', '360p', '360p']\n",
      "{'format_id': '133', 'url': 'https://r6---sn-qxoedn7e.googlevideo.com/videoplayback?expire=1573804249&ei=eQTOXbCJNruAir4Pi7eD6Ac&ip=71.218.115.0&id=o-ALaQ5w4MUHO0MjjdOwfz3LP7l4cflSgCnKJChDLl51i3&itag=133&aitags=133%2C134%2C135%2C160%2C242%2C243%2C244%2C278&source=youtube&requiressl=yes&mm=31%2C29&mn=sn-qxoedn7e%2Csn-qxo7rn7e&ms=au%2Crdu&mv=m&mvi=5&pl=15&initcwndbps=862500&mime=video%2Fmp4&gir=yes&clen=6997709&dur=228.795&lmt=1377574979076269&mt=1573782541&fvip=6&keepalive=yes&fexp=23842630&c=WEB&sparams=expire%2Cei%2Cip%2Cid%2Caitags%2Csource%2Crequiressl%2Cmime%2Cgir%2Cclen%2Cdur%2Clmt&lsparams=mm%2Cmn%2Cms%2Cmv%2Cmvi%2Cpl%2Cinitcwndbps&lsig=AHylml4wRAIgJAz0pIscDE31pszTIzBEiOg7wzKnTnyhx6wNydutaHQCID-sFGFbsY9gFGrGk37s1OXS9qLsiRrwl5dnc9jH50CJ&sig=ALgxI2wwRgIhAPMILEVrJ7I3oSynQW56CrFi1H2SA_0j8R-w48_bYHleAiEAqjBQ8koCi0r5UiDwMdJAyya6Zh4NwBsaqsASN_oUP4Q=&ratebypass=yes', 'player_url': '/yts/jsbin/player_ias-vflFlp-mq/en_US/base.js', 'ext': 'mp4', 'height': 234, 'format_note': '240p', 'vcodec': 'avc1.4d4015', 'asr': None, 'filesize': 6997709, 'fps': 30, 'tbr': 255.47, 'width': 426, 'acodec': 'none', 'downloader_options': {'http_chunk_size': 10485760}, 'format': '133 - 426x234 (240p)', 'protocol': 'https', 'http_headers': {'User-Agent': 'Mozilla/5.0 (Windows NT 10.0; Win64; x64) AppleWebKit/537.36 (KHTML, like Gecko) Chrome/75.0.3749.0 Safari/537.36', 'Accept-Charset': 'ISO-8859-1,utf-8;q=0.7,*;q=0.7', 'Accept': 'text/html,application/xhtml+xml,application/xml;q=0.9,*/*;q=0.8', 'Accept-Encoding': 'gzip, deflate', 'Accept-Language': 'en-us,en;q=0.5'}}\n"
     ]
    }
   ],
   "source": [
    "formats=yt_info.get('formats', None)\n",
    "format_notes = [x['format_note'] for x in formats]\n",
    "print(format_notes)\n",
    "print(formats[7])"
   ]
  },
  {
   "cell_type": "markdown",
   "metadata": {},
   "source": [
    "### Lets make a function that pulls a set number of frames\n",
    "For now, we don't want every frame of the video\n",
    "Lets lean towards more videos with a few frames over a lot of frames from a few videos"
   ]
  },
  {
   "cell_type": "code",
   "execution_count": 23,
   "metadata": {},
   "outputs": [],
   "source": [
    "def get_frames(yt_id, output_dir, frames_wanted, format_wanted):\n",
    "    yt_url = f\"https://www.youtube.com/watch?v={yt_id}\"\n",
    "    ydl_options = {}\n",
    "    \n",
    "    ydl = youtube_dl.YoutubeDL(ydl_options)\n",
    "    \n",
    "    yt_info = ydl.extract_info(yt_url, download=False)\n",
    "    \n",
    "    formats = yt_info.get('formats', None)\n",
    "    \n",
    "    for f in formats:\n",
    "        if f.get('format_note') == format_wanted:\n",
    "            url = f.get('url', None)\n",
    "            \n",
    "            cap = cv2.VideoCapture(url)\n",
    "            \n",
    "            if not cap.isOpened():\n",
    "                print('Video not opened')\n",
    "                \n",
    "            total_frames = int(cap.get(cv2.CAP_PROP_FRAME_COUNT))\n",
    "            fps = int(cap.get(cv2.CAP_PROP_FPS))\n",
    "            \n",
    "            print(f\"Total Frame Count: {total_frames}\")\n",
    "            print(f\"FPS: {fps}\")\n",
    "            \n",
    "            frame_iter = int(total_frames/(frames_wanted)+1)\n",
    "            \n",
    "            frame_num = 0\n",
    "            \n",
    "            while True:\n",
    "                frame_num += frame_iter\n",
    "                \n",
    "                cap.set(1, frame_num-1)\n",
    "                ret, frame = cap.read()\n",
    "                \n",
    "                if not ret:\n",
    "                    break\n",
    "                \n",
    "                output_image = output_dir + f\"/{yt_id}_{frame_num:06}.jpg\"\n",
    "                \n",
    "                cv2.imwrite(output_image, frame)\n",
    "                \n",
    "                print(f\"Writing Frame to: {output_image}\")\n",
    "            \n",
    "            cap.release()\n",
    "                \n",
    "            break # Can have multiple of requested format, so get only 1"
   ]
  },
  {
   "cell_type": "markdown",
   "metadata": {},
   "source": [
    "### Test function\n",
    "Have to break after getting the asked for format_note because there can be multiples of each"
   ]
  },
  {
   "cell_type": "code",
   "execution_count": 24,
   "metadata": {
    "scrolled": true
   },
   "outputs": [
    {
     "name": "stdout",
     "output_type": "stream",
     "text": [
      "[youtube] LLf2i_EK6RU: Downloading webpage\n",
      "[youtube] LLf2i_EK6RU: Downloading video info webpage\n",
      "Total Frame Count: 6857\n",
      "FPS: 29\n",
      "Writing Frame to: ../data/frames/test/LLf2i_EK6RU_000686.jpg\n",
      "Writing Frame to: ../data/frames/test/LLf2i_EK6RU_001372.jpg\n",
      "Writing Frame to: ../data/frames/test/LLf2i_EK6RU_002058.jpg\n",
      "Writing Frame to: ../data/frames/test/LLf2i_EK6RU_002744.jpg\n",
      "Writing Frame to: ../data/frames/test/LLf2i_EK6RU_003430.jpg\n",
      "Writing Frame to: ../data/frames/test/LLf2i_EK6RU_004116.jpg\n",
      "Writing Frame to: ../data/frames/test/LLf2i_EK6RU_004802.jpg\n",
      "Writing Frame to: ../data/frames/test/LLf2i_EK6RU_005488.jpg\n",
      "Writing Frame to: ../data/frames/test/LLf2i_EK6RU_006174.jpg\n"
     ]
    }
   ],
   "source": [
    "get_frames('LLf2i_EK6RU', '../data/frames/test', 10, '240p')"
   ]
  },
  {
   "cell_type": "code",
   "execution_count": null,
   "metadata": {},
   "outputs": [],
   "source": []
  }
 ],
 "metadata": {
  "kernelspec": {
   "display_name": "Python 3",
   "language": "python",
   "name": "python3"
  },
  "language_info": {
   "codemirror_mode": {
    "name": "ipython",
    "version": 3
   },
   "file_extension": ".py",
   "mimetype": "text/x-python",
   "name": "python",
   "nbconvert_exporter": "python",
   "pygments_lexer": "ipython3",
   "version": "3.6.8"
  }
 },
 "nbformat": 4,
 "nbformat_minor": 2
}
